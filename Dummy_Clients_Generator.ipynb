{
 "cells": [
  {
   "cell_type": "code",
   "execution_count": 1,
   "id": "454cac14",
   "metadata": {},
   "outputs": [
    {
     "name": "stdout",
     "output_type": "stream",
     "text": [
      "Dummy bank client data saved to bank_clients.csv\n"
     ]
    }
   ],
   "source": [
    "import csv\n",
    "import faker  # You may need to install the Faker library: pip install Faker\n",
    "import random\n",
    "\n",
    "# Create a Faker instance to generate fake data\n",
    "fake = faker.Faker()\n",
    "\n",
    "# Define the number of clients\n",
    "num_clients = 60\n",
    "\n",
    "# Define the CSV file name\n",
    "csv_filename = \"bank_clients.csv\"\n",
    "\n",
    "# Define the CSV header\n",
    "csv_header = [\n",
    "    \"CLIENT_ID\", \"NAME\", \"SURNAME\", \"DRIVING LICENCE NUMBER\", \"DATE OF BIRTH\", \"CLIENT EMAIL\", \"CLIENT_PHOTO\"\n",
    "]\n",
    "\n",
    "# Create sets to keep track of used values for uniqueness\n",
    "used_names = set()\n",
    "used_surnames = set()\n",
    "used_licence_numbers = set()\n",
    "used_emails = set()\n",
    "used_birth_dates = set()\n",
    "\n",
    "# Create and open the CSV file in write mode\n",
    "with open(csv_filename, mode=\"w\", newline=\"\") as csv_file:\n",
    "    writer = csv.writer(csv_file)\n",
    "    \n",
    "    # Write the header row\n",
    "    writer.writerow(csv_header)\n",
    "    \n",
    "    # Generate and write dummy data for clients\n",
    "    for client_id in range(1, num_clients + 1):\n",
    "        # Generate unique values for each client\n",
    "        name = fake.first_name()\n",
    "        while name in used_names:\n",
    "            name = fake.first_name()\n",
    "        used_names.add(name)\n",
    "\n",
    "        surname = fake.last_name()\n",
    "        while surname in used_surnames:\n",
    "            surname = fake.last_name()\n",
    "        used_surnames.add(surname)\n",
    "\n",
    "        licence_number = fake.unique.random_int(min=100000, max=999999)\n",
    "        while licence_number in used_licence_numbers:\n",
    "            licence_number = fake.unique.random_int(min=100000, max=999999)\n",
    "        used_licence_numbers.add(licence_number)\n",
    "\n",
    "        birth_date = fake.date_of_birth(minimum_age=18, maximum_age=80)\n",
    "        while birth_date in used_birth_dates:\n",
    "            birth_date = fake.date_of_birth(minimum_age=18, maximum_age=80)\n",
    "        used_birth_dates.add(birth_date)\n",
    "\n",
    "        email = fake.unique.email()\n",
    "        while email in used_emails:\n",
    "            email = fake.unique.email()\n",
    "        used_emails.add(email)\n",
    "\n",
    "        # Generate a placeholder for client_photo (could be a URL or file path)\n",
    "        client_photo = fake.image_url(width=200, height=200)\n",
    "\n",
    "        # Write the data row\n",
    "        writer.writerow([client_id, name, surname, licence_number, birth_date, email, client_photo])\n",
    "\n",
    "print(f\"Dummy bank client data saved to {csv_filename}\")\n"
   ]
  },
  {
   "cell_type": "code",
   "execution_count": null,
   "id": "5ea4c754",
   "metadata": {},
   "outputs": [],
   "source": []
  }
 ],
 "metadata": {
  "kernelspec": {
   "display_name": "Python 3 (ipykernel)",
   "language": "python",
   "name": "python3"
  },
  "language_info": {
   "codemirror_mode": {
    "name": "ipython",
    "version": 3
   },
   "file_extension": ".py",
   "mimetype": "text/x-python",
   "name": "python",
   "nbconvert_exporter": "python",
   "pygments_lexer": "ipython3",
   "version": "3.11.4"
  }
 },
 "nbformat": 4,
 "nbformat_minor": 5
}
